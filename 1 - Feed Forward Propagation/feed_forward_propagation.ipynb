{
 "cells": [
  {
   "cell_type": "markdown",
   "source": [
    "#Stage 1\n",
    "![IMG1](images/img1.png)\n",
    "#Stage 2\n",
    "![IMG2](images/img2.png)\n",
    "#Stage 3\n",
    "![IMG3](images/img3.png)\n"
   ],
   "metadata": {
    "collapsed": false
   }
  },
  {
   "cell_type": "code",
   "execution_count": 103,
   "outputs": [],
   "source": [
    "#Import Modules\n",
    "import numpy as np"
   ],
   "metadata": {
    "collapsed": false,
    "ExecuteTime": {
     "end_time": "2023-06-27T21:46:11.469370Z",
     "start_time": "2023-06-27T21:46:11.464657Z"
    }
   }
  },
  {
   "cell_type": "code",
   "execution_count": 104,
   "outputs": [],
   "source": [
    "def sigmoid(z):\n",
    "    return 1/(1+np.exp(-z))"
   ],
   "metadata": {
    "collapsed": false,
    "ExecuteTime": {
     "end_time": "2023-06-27T21:46:11.709285Z",
     "start_time": "2023-06-27T21:46:11.705046Z"
    }
   }
  },
  {
   "cell_type": "code",
   "execution_count": 105,
   "outputs": [],
   "source": [
    "def mse(pred_out, outputs):\n",
    "    return np.mean(np.square(pred_out-outputs))"
   ],
   "metadata": {
    "collapsed": false,
    "ExecuteTime": {
     "end_time": "2023-06-27T21:46:12.010486Z",
     "start_time": "2023-06-27T21:46:12.005643Z"
    }
   }
  },
  {
   "cell_type": "code",
   "execution_count": 106,
   "outputs": [],
   "source": [
    "def feed_forward(inputs, outputs, weights):\n",
    "    pre_hidden = np.dot(weights[0], inputs) + weights[1]\n",
    "    hidden = sigmoid(pre_hidden)\n",
    "    pred_out = np.dot(weights[2], hidden) + weights[3]\n",
    "\n",
    "    mean_square_error = mse(pred_out,outputs)\n",
    "    return mean_square_error"
   ],
   "metadata": {
    "collapsed": false,
    "ExecuteTime": {
     "end_time": "2023-06-27T21:46:12.227766Z",
     "start_time": "2023-06-27T21:46:12.223318Z"
    }
   }
  },
  {
   "cell_type": "code",
   "execution_count": 107,
   "outputs": [],
   "source": [
    "inputs = np.array([[1],[1]])\n",
    "\n",
    "# Define the weights for the first layer\n",
    "weights_layer1 = np.array([[0.8, 0.2],\n",
    "                           [0.4, 0.9],\n",
    "                           [0.3, 0.5]])\n",
    "\n",
    "# Define the bias for the first layer (all zeros)\n",
    "bias_layer1 = np.array([[0], [0],[0]])\n",
    "\n",
    "# Define the weights for the second layer\n",
    "weights_layer2 = np.array([[0.3,\n",
    "                           0.5,\n",
    "                           0.9]])\n",
    "\n",
    "# Define the bias for the second layer (all zeros)\n",
    "bias_layer2 = np.array([0])\n",
    "\n",
    "# Combine all the weights and biases into a single array\n",
    "weights = [weights_layer1, bias_layer1, weights_layer2, bias_layer2]\n",
    "\n",
    "outputs = 0"
   ],
   "metadata": {
    "collapsed": false,
    "ExecuteTime": {
     "end_time": "2023-06-27T21:46:12.453490Z",
     "start_time": "2023-06-27T21:46:12.449082Z"
    }
   }
  },
  {
   "cell_type": "code",
   "execution_count": 108,
   "outputs": [
    {
     "data": {
      "text/plain": "1.5208120789621902"
     },
     "execution_count": 108,
     "metadata": {},
     "output_type": "execute_result"
    }
   ],
   "source": [
    "feed_forward(inputs, outputs, weights)"
   ],
   "metadata": {
    "collapsed": false,
    "ExecuteTime": {
     "end_time": "2023-06-27T21:46:12.711180Z",
     "start_time": "2023-06-27T21:46:12.699299Z"
    }
   }
  }
 ],
 "metadata": {
  "kernelspec": {
   "display_name": "Python 3",
   "language": "python",
   "name": "python3"
  },
  "language_info": {
   "codemirror_mode": {
    "name": "ipython",
    "version": 2
   },
   "file_extension": ".py",
   "mimetype": "text/x-python",
   "name": "python",
   "nbconvert_exporter": "python",
   "pygments_lexer": "ipython2",
   "version": "2.7.6"
  }
 },
 "nbformat": 4,
 "nbformat_minor": 0
}
